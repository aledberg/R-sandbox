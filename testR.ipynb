{
 "cells": [
  {
   "cell_type": "markdown",
   "metadata": {},
   "source": [
    "This is just a test to see how easy it is to run some R code without installing"
   ]
  },
  {
   "cell_type": "code",
   "execution_count": null,
   "metadata": {},
   "outputs": [],
   "source": [
    "## load some packages needed\n",
    "require(survival)\n",
    "require(dplyr)\n",
    "require(ggplot2)"
   ]
  },
  {
   "cell_type": "code",
   "execution_count": 1,
   "metadata": {},
   "outputs": [],
   "source": [
    "## create a data frame \n",
    "r <- as.data.frame(time=seq(1,100),r=rnorm(100))"
   ]
  },
  {
   "cell_type": "code",
   "execution_count": 2,
   "metadata": {
    "scrolled": true
   },
   "outputs": [
    {
     "name": "stdout",
     "output_type": "stream",
     "text": [
      "  [1]  1.013238693 -0.523479122  0.197830682 -0.930588704 -0.146025088\n",
      "  [6]  2.880600601  0.079793925  0.298159692 -0.628255433 -0.291412042\n",
      " [11] -0.212900195  1.104281174  0.236660827  2.314040676  0.516108296\n",
      " [16] -1.386990453 -1.383903717  0.091912240 -0.016053917  1.380773577\n",
      " [21]  0.017950381 -0.401947905 -1.258093914 -0.853931472  2.226053353\n",
      " [26] -0.379367991 -0.095818372 -1.063340091  0.086661652 -0.953350828\n",
      " [31]  0.088010963  0.112125233  1.097827340  1.760812389 -1.358075587\n",
      " [36] -2.100950871  0.399449484  0.676102911  1.172772981  0.055535004\n",
      " [41] -0.658506133  0.805274538 -1.615590133 -0.247908708 -0.179884468\n",
      " [46]  0.292185079  0.774414652 -0.195592567 -1.072473130 -0.712488950\n",
      " [51]  0.375731642 -0.106385123 -0.619401155  0.531821781 -1.841017953\n",
      " [56] -1.130778401  0.347878714 -1.107349929 -0.433448086  0.882520739\n",
      " [61]  0.025111362 -0.220518331  0.080967467 -0.140443753 -0.069670234\n",
      " [66] -1.891536248  0.038653466 -0.858248821 -0.795748939  0.102501970\n",
      " [71] -2.295449053 -2.787753580 -1.454919515  0.436710241  1.246736645\n",
      " [76]  0.005868626 -0.165277655 -0.641195943 -1.061292921  0.303102336\n",
      " [81] -0.164026410 -1.164687372  0.700550463 -1.033702194 -0.643615899\n",
      " [86] -1.357560305  1.086041192 -1.017081277  1.241339890  0.837337032\n",
      " [91] -0.076740648 -0.545571841  0.219808163 -1.492166756 -0.887532326\n",
      " [96] -0.999578107  1.455078736 -0.001036799 -0.456864918 -0.860548937\n"
     ]
    }
   ],
   "source": [
    "print(r)"
   ]
  },
  {
   "cell_type": "markdown",
   "metadata": {},
   "source": [
    "Now we have created 100 random numbers (they are not random anymore).\n"
   ]
  },
  {
   "cell_type": "code",
   "execution_count": null,
   "metadata": {},
   "outputs": [],
   "source": [
    "ggplot(data=r,aes(x=time,y=r))+geom_line()"
   ]
  }
 ],
 "metadata": {
  "kernelspec": {
   "display_name": "R",
   "language": "R",
   "name": "ir"
  },
  "language_info": {
   "codemirror_mode": "r",
   "file_extension": ".r",
   "mimetype": "text/x-r-source",
   "name": "R",
   "pygments_lexer": "r",
   "version": "3.6.3"
  }
 },
 "nbformat": 4,
 "nbformat_minor": 4
}
